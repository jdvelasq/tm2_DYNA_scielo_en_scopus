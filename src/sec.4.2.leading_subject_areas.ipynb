{
 "cells": [
  {
   "cell_type": "code",
   "execution_count": null,
   "metadata": {},
   "outputs": [],
   "source": [
    "from techminer2.database.metrics.performance import DataFrame  # type: ignore\n",
    "\n",
    "\n",
    "frame = (\n",
    "    DataFrame()\n",
    "    #\n",
    "    # FIELD:\n",
    "    .with_field(\"subject_areas\")\n",
    "    .having_terms_in_top(None)\n",
    "    .having_terms_ordered_by(\"OCC\")\n",
    "    .having_term_occurrences_between(None, None)\n",
    "    .having_term_citations_between(None, None)\n",
    "    .having_terms_in(None)\n",
    "    #\n",
    "    # DATABASE:\n",
    "    .where_root_directory_is(\"../\")\n",
    "    .where_database_is(\"main\")\n",
    "    .where_record_years_range_is(None, None)\n",
    "    .where_record_citations_range_is(None, None)\n",
    "    #\n",
    "    .run()\n",
    ")\n",
    "\n",
    "frame[\"percentage\"] = frame[\"OCC\"] / 15286.0 * 100\n",
    "frame[\"percentage\"] = frame[\"percentage\"].map(lambda x: \"{:2.1f}%\".format(x))\n",
    "frame = frame[[\"OCC\", \"percentage\", \"global_citations\", \"local_citations\"]]\n",
    "frame"
   ]
  },
  {
   "cell_type": "code",
   "execution_count": null,
   "metadata": {},
   "outputs": [],
   "source": [
    "from techminer2.database.metrics.records import DataFrame # type: ignore\n",
    "\n",
    "\n",
    "for subject_area in frame.index:\n",
    "\n",
    "    frame_by_area = (\n",
    "        DataFrame()\n",
    "        #\n",
    "        .where_root_directory_is(\"../\")\n",
    "        .where_database_is(\"main\")\n",
    "        .where_record_years_range_is(None, None)\n",
    "        .where_record_citations_range_is(None, None)\n",
    "        .where_records_match(\n",
    "            {\n",
    "                \"subject_areas\": [subject_area],\n",
    "            }\n",
    "        )\n",
    "        .where_records_ordered_by(\"global_cited_by_highest\")\n",
    "        .run()\n",
    "    )\n",
    "\n",
    "\n",
    "    print(subject_area, frame_by_area.shape[0])"
   ]
  },
  {
   "cell_type": "code",
   "execution_count": 12,
   "metadata": {},
   "outputs": [
    {
     "data": {
      "application/vnd.plotly.v1+json": {
       "config": {
        "plotlyServerURL": "https://plot.ly"
       },
       "data": [
        {
         "hoverinfo": "none",
         "line": {
          "color": "#7793a5",
          "dash": "dash",
          "width": 1
         },
         "mode": "lines",
         "type": "scatter",
         "x": [
          0.3654531444948745,
          0.08997698424796594
         ],
         "y": [
          0.30570249834660385,
          -0.02381931185757939
         ]
        },
        {
         "hoverinfo": "none",
         "line": {
          "color": "#7793a5",
          "dash": "dot",
          "width": 1
         },
         "mode": "lines",
         "type": "scatter",
         "x": [
          0.3654531444948745,
          0.15718073634786447
         ],
         "y": [
          0.30570249834660385,
          1
         ]
        },
        {
         "hoverinfo": "none",
         "line": {
          "color": "#7793a5",
          "dash": "dot",
          "width": 1
         },
         "mode": "lines",
         "type": "scatter",
         "x": [
          0.3654531444948745,
          0.14840405901959647
         ],
         "y": [
          0.30570249834660385,
          0.3558437246822378
         ]
        },
        {
         "hoverinfo": "none",
         "line": {
          "color": "#7793a5",
          "dash": "dot",
          "width": 1
         },
         "mode": "lines",
         "type": "scatter",
         "x": [
          0.3654531444948745,
          -0.13260236253454863
         ],
         "y": [
          0.30570249834660385,
          -0.10874560130480444
         ]
        },
        {
         "hoverinfo": "none",
         "line": {
          "color": "#7793a5",
          "dash": "dot",
          "width": 1
         },
         "mode": "lines",
         "type": "scatter",
         "x": [
          0.3654531444948745,
          0.06623608617805651
         ],
         "y": [
          0.30570249834660385,
          -0.1981105734620731
         ]
        },
        {
         "hoverinfo": "none",
         "line": {
          "color": "#7793a5",
          "dash": "dot",
          "width": 1
         },
         "mode": "lines",
         "type": "scatter",
         "x": [
          0.3654531444948745,
          -0.0079779088579511
         ],
         "y": [
          0.30570249834660385,
          -0.29133585963946657
         ]
        },
        {
         "hoverinfo": "none",
         "line": {
          "color": "#7793a5",
          "dash": "dot",
          "width": 1
         },
         "mode": "lines",
         "type": "scatter",
         "x": [
          0.3654531444948745,
          -0.034905896794381344
         ],
         "y": [
          0.30570249834660385,
          -0.04102973295439329
         ]
        },
        {
         "hoverinfo": "none",
         "line": {
          "color": "#7793a5",
          "dash": "dot",
          "width": 1
         },
         "mode": "lines",
         "type": "scatter",
         "x": [
          0.3654531444948745,
          -0.1863758251044499
         ],
         "y": [
          0.30570249834660385,
          -0.2130793724910347
         ]
        },
        {
         "hoverinfo": "none",
         "line": {
          "color": "#7793a5",
          "dash": "dot",
          "width": 1
         },
         "mode": "lines",
         "type": "scatter",
         "x": [
          0.3654531444948745,
          -0.15176023965624352
         ],
         "y": [
          0.30570249834660385,
          -0.3311679344540336
         ]
        },
        {
         "hoverinfo": "none",
         "line": {
          "color": "#7793a5",
          "dash": "dot",
          "width": 1
         },
         "mode": "lines",
         "type": "scatter",
         "x": [
          0.3654531444948745,
          -0.16134202024279035
         ],
         "y": [
          0.30570249834660385,
          0.03392374249585388
         ]
        },
        {
         "hoverinfo": "none",
         "line": {
          "color": "#7793a5",
          "dash": "dot",
          "width": 1
         },
         "mode": "lines",
         "type": "scatter",
         "x": [
          0.3654531444948745,
          0.22602410809437
         ],
         "y": [
          0.30570249834660385,
          -0.5134593646675446
         ]
        },
        {
         "hoverinfo": "none",
         "line": {
          "color": "#7793a5",
          "dash": "dot",
          "width": 1
         },
         "mode": "lines",
         "type": "scatter",
         "x": [
          0.3654531444948745,
          0.4007296043376475
         ],
         "y": [
          0.30570249834660385,
          -0.4074946220961584
         ]
        },
        {
         "hoverinfo": "none",
         "line": {
          "color": "#7793a5",
          "dash": "dot",
          "width": 1
         },
         "mode": "lines",
         "type": "scatter",
         "x": [
          0.3654531444948745,
          -0.35452999970400034
         ],
         "y": [
          0.30570249834660385,
          -0.19938098000740692
         ]
        },
        {
         "hoverinfo": "none",
         "line": {
          "color": "#7793a5",
          "dash": "dot",
          "width": 1
         },
         "mode": "lines",
         "type": "scatter",
         "x": [
          0.3654531444948745,
          -0.4045822127626681
         ],
         "y": [
          0.30570249834660385,
          0.005549297445378813
         ]
        },
        {
         "hoverinfo": "none",
         "line": {
          "color": "#7793a5",
          "dash": "dot",
          "width": 1
         },
         "mode": "lines",
         "type": "scatter",
         "x": [
          0.47267221073872484,
          0.4561426097478631
         ],
         "y": [
          0.7904223631258992,
          -0.0359552189960967
         ]
        },
        {
         "hoverinfo": "none",
         "line": {
          "color": "#7793a5",
          "dash": "dot",
          "width": 1
         },
         "mode": "lines",
         "type": "scatter",
         "x": [
          0.47267221073872484,
          0.08997698424796594
         ],
         "y": [
          0.7904223631258992,
          -0.02381931185757939
         ]
        },
        {
         "hoverinfo": "none",
         "line": {
          "color": "#7793a5",
          "dash": "dash",
          "width": 1
         },
         "mode": "lines",
         "type": "scatter",
         "x": [
          -0.0079779088579511,
          -0.4045822127626681
         ],
         "y": [
          -0.29133585963946657,
          0.005549297445378813
         ]
        },
        {
         "hoverinfo": "none",
         "line": {
          "color": "#7793a5",
          "dash": "dash",
          "width": 1
         },
         "mode": "lines",
         "type": "scatter",
         "x": [
          -0.0079779088579511,
          0.22602410809437
         ],
         "y": [
          -0.29133585963946657,
          -0.5134593646675446
         ]
        },
        {
         "hoverinfo": "none",
         "line": {
          "color": "#7793a5",
          "dash": "dash",
          "width": 1
         },
         "mode": "lines",
         "type": "scatter",
         "x": [
          -0.0079779088579511,
          0.4007296043376475
         ],
         "y": [
          -0.29133585963946657,
          -0.4074946220961584
         ]
        },
        {
         "hoverinfo": "none",
         "line": {
          "color": "#7793a5",
          "dash": "dot",
          "width": 1
         },
         "mode": "lines",
         "type": "scatter",
         "x": [
          -0.0079779088579511,
          0.4561426097478631
         ],
         "y": [
          -0.29133585963946657,
          -0.0359552189960967
         ]
        },
        {
         "hoverinfo": "none",
         "line": {
          "color": "#7793a5",
          "dash": "dot",
          "width": 1
         },
         "mode": "lines",
         "type": "scatter",
         "x": [
          -0.0079779088579511,
          0.14840405901959647
         ],
         "y": [
          -0.29133585963946657,
          0.3558437246822378
         ]
        },
        {
         "hoverinfo": "none",
         "line": {
          "color": "#7793a5",
          "dash": "dash",
          "width": 1
         },
         "mode": "lines",
         "type": "scatter",
         "x": [
          0.06623608617805651,
          -0.4045822127626681
         ],
         "y": [
          -0.1981105734620731,
          0.005549297445378813
         ]
        },
        {
         "hoverinfo": "none",
         "line": {
          "color": "#7793a5",
          "dash": "dash",
          "width": 1
         },
         "mode": "lines",
         "type": "scatter",
         "x": [
          0.06623608617805651,
          0.22602410809437
         ],
         "y": [
          -0.1981105734620731,
          -0.5134593646675446
         ]
        },
        {
         "hoverinfo": "none",
         "line": {
          "color": "#7793a5",
          "dash": "dash",
          "width": 1
         },
         "mode": "lines",
         "type": "scatter",
         "x": [
          0.06623608617805651,
          0.4007296043376475
         ],
         "y": [
          -0.1981105734620731,
          -0.4074946220961584
         ]
        },
        {
         "hoverinfo": "none",
         "line": {
          "color": "#7793a5",
          "dash": "dot",
          "width": 1
         },
         "mode": "lines",
         "type": "scatter",
         "x": [
          0.06623608617805651,
          0.4561426097478631
         ],
         "y": [
          -0.1981105734620731,
          -0.0359552189960967
         ]
        },
        {
         "hoverinfo": "none",
         "line": {
          "color": "#7793a5",
          "dash": "dot",
          "width": 1
         },
         "mode": "lines",
         "type": "scatter",
         "x": [
          0.06623608617805651,
          0.14840405901959647
         ],
         "y": [
          -0.1981105734620731,
          0.3558437246822378
         ]
        },
        {
         "hoverinfo": "none",
         "line": {
          "color": "#7793a5",
          "dash": "dot",
          "width": 1
         },
         "mode": "lines",
         "type": "scatter",
         "x": [
          -0.9487430775499294,
          0.4007296043376475
         ],
         "y": [
          -0.12786305416538218,
          -0.4074946220961584
         ]
        },
        {
         "hoverinfo": "none",
         "line": {
          "color": "#7793a5",
          "dash": "dot",
          "width": 1
         },
         "mode": "lines",
         "type": "scatter",
         "x": [
          -0.9487430775499294,
          0.22602410809437
         ],
         "y": [
          -0.12786305416538218,
          -0.5134593646675446
         ]
        },
        {
         "hoverinfo": "none",
         "line": {
          "color": "#7793a5",
          "dash": "dash",
          "width": 1
         },
         "mode": "lines",
         "type": "scatter",
         "x": [
          -0.13260236253454863,
          -0.4045822127626681
         ],
         "y": [
          -0.10874560130480444,
          0.005549297445378813
         ]
        },
        {
         "hoverinfo": "none",
         "line": {
          "color": "#7793a5",
          "dash": "dot",
          "width": 1
         },
         "mode": "lines",
         "type": "scatter",
         "x": [
          -0.13260236253454863,
          0.22602410809437
         ],
         "y": [
          -0.10874560130480444,
          -0.5134593646675446
         ]
        },
        {
         "hoverinfo": "none",
         "line": {
          "color": "#7793a5",
          "dash": "dot",
          "width": 1
         },
         "mode": "lines",
         "type": "scatter",
         "x": [
          -0.13260236253454863,
          0.4007296043376475
         ],
         "y": [
          -0.10874560130480444,
          -0.4074946220961584
         ]
        },
        {
         "hoverinfo": "none",
         "line": {
          "color": "#7793a5",
          "dash": "dot",
          "width": 1
         },
         "mode": "lines",
         "type": "scatter",
         "x": [
          -0.13260236253454863,
          0.14840405901959647
         ],
         "y": [
          -0.10874560130480444,
          0.3558437246822378
         ]
        },
        {
         "hoverinfo": "none",
         "line": {
          "color": "#7793a5",
          "dash": "dot",
          "width": 1
         },
         "mode": "lines",
         "type": "scatter",
         "x": [
          -0.13260236253454863,
          0.4561426097478631
         ],
         "y": [
          -0.10874560130480444,
          -0.0359552189960967
         ]
        },
        {
         "hoverinfo": "none",
         "line": {
          "color": "#7793a5",
          "dash": "dash",
          "width": 1
         },
         "mode": "lines",
         "type": "scatter",
         "x": [
          -0.4045822127626681,
          -0.034905896794381344
         ],
         "y": [
          0.005549297445378813,
          -0.04102973295439329
         ]
        },
        {
         "hoverinfo": "none",
         "line": {
          "color": "#7793a5",
          "dash": "dash",
          "width": 1
         },
         "mode": "lines",
         "type": "scatter",
         "x": [
          -0.4045822127626681,
          0.08997698424796594
         ],
         "y": [
          0.005549297445378813,
          -0.02381931185757939
         ]
        },
        {
         "hoverinfo": "none",
         "line": {
          "color": "#7793a5",
          "dash": "dash",
          "width": 1
         },
         "mode": "lines",
         "type": "scatter",
         "x": [
          -0.4045822127626681,
          -0.1863758251044499
         ],
         "y": [
          0.005549297445378813,
          -0.2130793724910347
         ]
        },
        {
         "hoverinfo": "none",
         "line": {
          "color": "#7793a5",
          "dash": "dash",
          "width": 1
         },
         "mode": "lines",
         "type": "scatter",
         "x": [
          -0.4045822127626681,
          -0.15176023965624352
         ],
         "y": [
          0.005549297445378813,
          -0.3311679344540336
         ]
        },
        {
         "hoverinfo": "none",
         "line": {
          "color": "#7793a5",
          "dash": "dot",
          "width": 1
         },
         "mode": "lines",
         "type": "scatter",
         "x": [
          -0.4045822127626681,
          -0.16134202024279035
         ],
         "y": [
          0.005549297445378813,
          0.03392374249585388
         ]
        },
        {
         "hoverinfo": "none",
         "line": {
          "color": "#7793a5",
          "dash": "dot",
          "width": 1
         },
         "mode": "lines",
         "type": "scatter",
         "x": [
          -0.4045822127626681,
          0.4561426097478631
         ],
         "y": [
          0.005549297445378813,
          -0.0359552189960967
         ]
        },
        {
         "hoverinfo": "none",
         "line": {
          "color": "#7793a5",
          "dash": "dot",
          "width": 1
         },
         "mode": "lines",
         "type": "scatter",
         "x": [
          -0.4045822127626681,
          0.14840405901959647
         ],
         "y": [
          0.005549297445378813,
          0.3558437246822378
         ]
        },
        {
         "hoverinfo": "none",
         "line": {
          "color": "#7793a5",
          "dash": "dash",
          "width": 1
         },
         "mode": "lines",
         "type": "scatter",
         "x": [
          0.14840405901959647,
          0.08997698424796594
         ],
         "y": [
          0.3558437246822378,
          -0.02381931185757939
         ]
        },
        {
         "hoverinfo": "none",
         "line": {
          "color": "#7793a5",
          "dash": "dot",
          "width": 1
         },
         "mode": "lines",
         "type": "scatter",
         "x": [
          0.14840405901959647,
          -0.034905896794381344
         ],
         "y": [
          0.3558437246822378,
          -0.04102973295439329
         ]
        },
        {
         "hoverinfo": "none",
         "line": {
          "color": "#7793a5",
          "dash": "dot",
          "width": 1
         },
         "mode": "lines",
         "type": "scatter",
         "x": [
          0.14840405901959647,
          -0.1863758251044499
         ],
         "y": [
          0.3558437246822378,
          -0.2130793724910347
         ]
        },
        {
         "hoverinfo": "none",
         "line": {
          "color": "#7793a5",
          "dash": "dot",
          "width": 1
         },
         "mode": "lines",
         "type": "scatter",
         "x": [
          0.14840405901959647,
          -0.15176023965624352
         ],
         "y": [
          0.3558437246822378,
          -0.3311679344540336
         ]
        },
        {
         "hoverinfo": "none",
         "line": {
          "color": "#7793a5",
          "dash": "dot",
          "width": 1
         },
         "mode": "lines",
         "type": "scatter",
         "x": [
          0.14840405901959647,
          -0.16134202024279035
         ],
         "y": [
          0.3558437246822378,
          0.03392374249585388
         ]
        },
        {
         "hoverinfo": "none",
         "line": {
          "color": "#7793a5",
          "dash": "dot",
          "width": 1
         },
         "mode": "lines",
         "type": "scatter",
         "x": [
          0.14840405901959647,
          0.4561426097478631
         ],
         "y": [
          0.3558437246822378,
          -0.0359552189960967
         ]
        },
        {
         "hoverinfo": "none",
         "line": {
          "color": "#7793a5",
          "dash": "dot",
          "width": 1
         },
         "mode": "lines",
         "type": "scatter",
         "x": [
          0.14840405901959647,
          -0.35452999970400034
         ],
         "y": [
          0.3558437246822378,
          -0.19938098000740692
         ]
        },
        {
         "hoverinfo": "none",
         "line": {
          "color": "#7793a5",
          "dash": "dash",
          "width": 1
         },
         "mode": "lines",
         "type": "scatter",
         "x": [
          0.4007296043376475,
          0.4561426097478631
         ],
         "y": [
          -0.4074946220961584,
          -0.0359552189960967
         ]
        },
        {
         "hoverinfo": "none",
         "line": {
          "color": "#7793a5",
          "dash": "dot",
          "width": 1
         },
         "mode": "lines",
         "type": "scatter",
         "x": [
          0.4007296043376475,
          0.08997698424796594
         ],
         "y": [
          -0.4074946220961584,
          -0.02381931185757939
         ]
        },
        {
         "hoverinfo": "none",
         "line": {
          "color": "#7793a5",
          "dash": "dot",
          "width": 1
         },
         "mode": "lines",
         "type": "scatter",
         "x": [
          0.4007296043376475,
          -0.034905896794381344
         ],
         "y": [
          -0.4074946220961584,
          -0.04102973295439329
         ]
        },
        {
         "hoverinfo": "none",
         "line": {
          "color": "#7793a5",
          "dash": "dot",
          "width": 1
         },
         "mode": "lines",
         "type": "scatter",
         "x": [
          0.4007296043376475,
          -0.1863758251044499
         ],
         "y": [
          -0.4074946220961584,
          -0.2130793724910347
         ]
        },
        {
         "hoverinfo": "none",
         "line": {
          "color": "#7793a5",
          "dash": "dot",
          "width": 1
         },
         "mode": "lines",
         "type": "scatter",
         "x": [
          0.4007296043376475,
          -0.15176023965624352
         ],
         "y": [
          -0.4074946220961584,
          -0.3311679344540336
         ]
        },
        {
         "hoverinfo": "none",
         "line": {
          "color": "#7793a5",
          "dash": "dot",
          "width": 1
         },
         "mode": "lines",
         "type": "scatter",
         "x": [
          0.4007296043376475,
          -0.16134202024279035
         ],
         "y": [
          -0.4074946220961584,
          0.03392374249585388
         ]
        },
        {
         "hoverinfo": "none",
         "line": {
          "color": "#7793a5",
          "dash": "dot",
          "width": 1
         },
         "mode": "lines",
         "type": "scatter",
         "x": [
          0.4007296043376475,
          -0.35452999970400034
         ],
         "y": [
          -0.4074946220961584,
          -0.19938098000740692
         ]
        },
        {
         "hoverinfo": "none",
         "line": {
          "color": "#7793a5",
          "dash": "dash",
          "width": 1
         },
         "mode": "lines",
         "type": "scatter",
         "x": [
          0.22602410809437,
          0.4561426097478631
         ],
         "y": [
          -0.5134593646675446,
          -0.0359552189960967
         ]
        },
        {
         "hoverinfo": "none",
         "line": {
          "color": "#7793a5",
          "dash": "dot",
          "width": 1
         },
         "mode": "lines",
         "type": "scatter",
         "x": [
          0.22602410809437,
          0.08997698424796594
         ],
         "y": [
          -0.5134593646675446,
          -0.02381931185757939
         ]
        },
        {
         "hoverinfo": "none",
         "line": {
          "color": "#7793a5",
          "dash": "dot",
          "width": 1
         },
         "mode": "lines",
         "type": "scatter",
         "x": [
          0.22602410809437,
          -0.034905896794381344
         ],
         "y": [
          -0.5134593646675446,
          -0.04102973295439329
         ]
        },
        {
         "hoverinfo": "none",
         "line": {
          "color": "#7793a5",
          "dash": "dot",
          "width": 1
         },
         "mode": "lines",
         "type": "scatter",
         "x": [
          0.22602410809437,
          -0.1863758251044499
         ],
         "y": [
          -0.5134593646675446,
          -0.2130793724910347
         ]
        },
        {
         "hoverinfo": "none",
         "line": {
          "color": "#7793a5",
          "dash": "dot",
          "width": 1
         },
         "mode": "lines",
         "type": "scatter",
         "x": [
          0.22602410809437,
          -0.15176023965624352
         ],
         "y": [
          -0.5134593646675446,
          -0.3311679344540336
         ]
        },
        {
         "hoverinfo": "none",
         "line": {
          "color": "#7793a5",
          "dash": "dot",
          "width": 1
         },
         "mode": "lines",
         "type": "scatter",
         "x": [
          0.22602410809437,
          -0.16134202024279035
         ],
         "y": [
          -0.5134593646675446,
          0.03392374249585388
         ]
        },
        {
         "hoverinfo": "none",
         "line": {
          "color": "#7793a5",
          "dash": "dot",
          "width": 1
         },
         "mode": "lines",
         "type": "scatter",
         "x": [
          0.22602410809437,
          -0.35452999970400034
         ],
         "y": [
          -0.5134593646675446,
          -0.19938098000740692
         ]
        },
        {
         "hoverinfo": "none",
         "line": {
          "color": "#7793a5",
          "dash": "dash",
          "width": 1
         },
         "mode": "lines",
         "type": "scatter",
         "x": [
          -0.35452999970400034,
          0.08997698424796594
         ],
         "y": [
          -0.19938098000740692,
          -0.02381931185757939
         ]
        },
        {
         "hoverinfo": "none",
         "line": {
          "color": "#7793a5",
          "dash": "dash",
          "width": 1
         },
         "mode": "lines",
         "type": "scatter",
         "x": [
          -0.35452999970400034,
          -0.1863758251044499
         ],
         "y": [
          -0.19938098000740692,
          -0.2130793724910347
         ]
        },
        {
         "hoverinfo": "none",
         "line": {
          "color": "#7793a5",
          "dash": "dash",
          "width": 1
         },
         "mode": "lines",
         "type": "scatter",
         "x": [
          -0.35452999970400034,
          -0.15176023965624352
         ],
         "y": [
          -0.19938098000740692,
          -0.3311679344540336
         ]
        },
        {
         "hoverinfo": "none",
         "line": {
          "color": "#7793a5",
          "dash": "dash",
          "width": 1
         },
         "mode": "lines",
         "type": "scatter",
         "x": [
          -0.35452999970400034,
          -0.16134202024279035
         ],
         "y": [
          -0.19938098000740692,
          0.03392374249585388
         ]
        },
        {
         "hoverinfo": "none",
         "line": {
          "color": "#7793a5",
          "dash": "dot",
          "width": 1
         },
         "mode": "lines",
         "type": "scatter",
         "x": [
          -0.35452999970400034,
          0.4561426097478631
         ],
         "y": [
          -0.19938098000740692,
          -0.0359552189960967
         ]
        },
        {
         "hoverinfo": "none",
         "line": {
          "color": "#7793a5",
          "dash": "dot",
          "width": 1
         },
         "mode": "lines",
         "type": "scatter",
         "x": [
          -0.16134202024279035,
          0.4561426097478631
         ],
         "y": [
          0.03392374249585388,
          -0.0359552189960967
         ]
        },
        {
         "hoverinfo": "none",
         "line": {
          "color": "#7793a5",
          "dash": "dot",
          "width": 1
         },
         "mode": "lines",
         "type": "scatter",
         "x": [
          -0.15176023965624352,
          0.4561426097478631
         ],
         "y": [
          -0.3311679344540336,
          -0.0359552189960967
         ]
        },
        {
         "hoverinfo": "none",
         "line": {
          "color": "#7793a5",
          "dash": "dot",
          "width": 1
         },
         "mode": "lines",
         "type": "scatter",
         "x": [
          -0.1863758251044499,
          0.4561426097478631
         ],
         "y": [
          -0.2130793724910347,
          -0.0359552189960967
         ]
        },
        {
         "hoverinfo": "none",
         "line": {
          "color": "#7793a5",
          "dash": "dash",
          "width": 1
         },
         "mode": "lines",
         "type": "scatter",
         "x": [
          0.08997698424796594,
          0.4561426097478631
         ],
         "y": [
          -0.02381931185757939,
          -0.0359552189960967
         ]
        },
        {
         "hoverinfo": "none",
         "line": {
          "color": "#7793a5",
          "dash": "dot",
          "width": 1
         },
         "mode": "lines",
         "type": "scatter",
         "x": [
          0.4561426097478631,
          -0.034905896794381344
         ],
         "y": [
          -0.0359552189960967,
          -0.04102973295439329
         ]
        },
        {
         "hoverinfo": "none",
         "line": {
          "color": "#7793a5",
          "dash": "solid",
          "width": 2
         },
         "mode": "lines",
         "type": "scatter",
         "x": [
          0.3654531444948745,
          0.47267221073872484
         ],
         "y": [
          0.30570249834660385,
          0.7904223631258992
         ]
        },
        {
         "hoverinfo": "none",
         "line": {
          "color": "#7793a5",
          "dash": "solid",
          "width": 2
         },
         "mode": "lines",
         "type": "scatter",
         "x": [
          0.3654531444948745,
          0.4561426097478631
         ],
         "y": [
          0.30570249834660385,
          -0.0359552189960967
         ]
        },
        {
         "hoverinfo": "none",
         "line": {
          "color": "#7793a5",
          "dash": "solid",
          "width": 2
         },
         "mode": "lines",
         "type": "scatter",
         "x": [
          -0.0079779088579511,
          -0.35452999970400034
         ],
         "y": [
          -0.29133585963946657,
          -0.19938098000740692
         ]
        },
        {
         "hoverinfo": "none",
         "line": {
          "color": "#7793a5",
          "dash": "solid",
          "width": 2
         },
         "mode": "lines",
         "type": "scatter",
         "x": [
          0.06623608617805651,
          -0.35452999970400034
         ],
         "y": [
          -0.1981105734620731,
          -0.19938098000740692
         ]
        },
        {
         "hoverinfo": "none",
         "line": {
          "color": "#7793a5",
          "dash": "solid",
          "width": 2
         },
         "mode": "lines",
         "type": "scatter",
         "x": [
          -0.13260236253454863,
          -0.35452999970400034
         ],
         "y": [
          -0.10874560130480444,
          -0.19938098000740692
         ]
        },
        {
         "hoverinfo": "none",
         "line": {
          "color": "#7793a5",
          "dash": "solid",
          "width": 2
         },
         "mode": "lines",
         "type": "scatter",
         "x": [
          -0.35452999970400034,
          -0.034905896794381344
         ],
         "y": [
          -0.19938098000740692,
          -0.04102973295439329
         ]
        },
        {
         "hoverinfo": "none",
         "line": {
          "color": "#7793a5",
          "dash": "solid",
          "width": 2
         },
         "mode": "lines",
         "type": "scatter",
         "x": [
          -0.16134202024279035,
          -0.15176023965624352
         ],
         "y": [
          0.03392374249585388,
          -0.3311679344540336
         ]
        },
        {
         "hoverinfo": "none",
         "line": {
          "color": "#7793a5",
          "dash": "solid",
          "width": 3
         },
         "mode": "lines",
         "type": "scatter",
         "x": [
          0.47267221073872484,
          0.15718073634786447
         ],
         "y": [
          0.7904223631258992,
          1
         ]
        },
        {
         "hoverinfo": "none",
         "line": {
          "color": "#7793a5",
          "dash": "solid",
          "width": 3
         },
         "mode": "lines",
         "type": "scatter",
         "x": [
          -0.0079779088579511,
          0.06623608617805651
         ],
         "y": [
          -0.29133585963946657,
          -0.1981105734620731
         ]
        },
        {
         "hoverinfo": "none",
         "line": {
          "color": "#7793a5",
          "dash": "solid",
          "width": 3
         },
         "mode": "lines",
         "type": "scatter",
         "x": [
          -0.0079779088579511,
          -0.13260236253454863
         ],
         "y": [
          -0.29133585963946657,
          -0.10874560130480444
         ]
        },
        {
         "hoverinfo": "none",
         "line": {
          "color": "#7793a5",
          "dash": "solid",
          "width": 3
         },
         "mode": "lines",
         "type": "scatter",
         "x": [
          -0.0079779088579511,
          -0.034905896794381344
         ],
         "y": [
          -0.29133585963946657,
          -0.04102973295439329
         ]
        },
        {
         "hoverinfo": "none",
         "line": {
          "color": "#7793a5",
          "dash": "solid",
          "width": 3
         },
         "mode": "lines",
         "type": "scatter",
         "x": [
          -0.0079779088579511,
          -0.1863758251044499
         ],
         "y": [
          -0.29133585963946657,
          -0.2130793724910347
         ]
        },
        {
         "hoverinfo": "none",
         "line": {
          "color": "#7793a5",
          "dash": "solid",
          "width": 3
         },
         "mode": "lines",
         "type": "scatter",
         "x": [
          -0.0079779088579511,
          0.08997698424796594
         ],
         "y": [
          -0.29133585963946657,
          -0.02381931185757939
         ]
        },
        {
         "hoverinfo": "none",
         "line": {
          "color": "#7793a5",
          "dash": "solid",
          "width": 3
         },
         "mode": "lines",
         "type": "scatter",
         "x": [
          -0.0079779088579511,
          -0.15176023965624352
         ],
         "y": [
          -0.29133585963946657,
          -0.3311679344540336
         ]
        },
        {
         "hoverinfo": "none",
         "line": {
          "color": "#7793a5",
          "dash": "solid",
          "width": 3
         },
         "mode": "lines",
         "type": "scatter",
         "x": [
          -0.0079779088579511,
          -0.16134202024279035
         ],
         "y": [
          -0.29133585963946657,
          0.03392374249585388
         ]
        },
        {
         "hoverinfo": "none",
         "line": {
          "color": "#7793a5",
          "dash": "solid",
          "width": 3
         },
         "mode": "lines",
         "type": "scatter",
         "x": [
          0.06623608617805651,
          -0.13260236253454863
         ],
         "y": [
          -0.1981105734620731,
          -0.10874560130480444
         ]
        },
        {
         "hoverinfo": "none",
         "line": {
          "color": "#7793a5",
          "dash": "solid",
          "width": 3
         },
         "mode": "lines",
         "type": "scatter",
         "x": [
          0.06623608617805651,
          -0.034905896794381344
         ],
         "y": [
          -0.1981105734620731,
          -0.04102973295439329
         ]
        },
        {
         "hoverinfo": "none",
         "line": {
          "color": "#7793a5",
          "dash": "solid",
          "width": 3
         },
         "mode": "lines",
         "type": "scatter",
         "x": [
          0.06623608617805651,
          -0.1863758251044499
         ],
         "y": [
          -0.1981105734620731,
          -0.2130793724910347
         ]
        },
        {
         "hoverinfo": "none",
         "line": {
          "color": "#7793a5",
          "dash": "solid",
          "width": 3
         },
         "mode": "lines",
         "type": "scatter",
         "x": [
          0.06623608617805651,
          0.08997698424796594
         ],
         "y": [
          -0.1981105734620731,
          -0.02381931185757939
         ]
        },
        {
         "hoverinfo": "none",
         "line": {
          "color": "#7793a5",
          "dash": "solid",
          "width": 3
         },
         "mode": "lines",
         "type": "scatter",
         "x": [
          0.06623608617805651,
          -0.15176023965624352
         ],
         "y": [
          -0.1981105734620731,
          -0.3311679344540336
         ]
        },
        {
         "hoverinfo": "none",
         "line": {
          "color": "#7793a5",
          "dash": "solid",
          "width": 3
         },
         "mode": "lines",
         "type": "scatter",
         "x": [
          0.06623608617805651,
          -0.16134202024279035
         ],
         "y": [
          -0.1981105734620731,
          0.03392374249585388
         ]
        },
        {
         "hoverinfo": "none",
         "line": {
          "color": "#7793a5",
          "dash": "solid",
          "width": 3
         },
         "mode": "lines",
         "type": "scatter",
         "x": [
          -0.13260236253454863,
          -0.034905896794381344
         ],
         "y": [
          -0.10874560130480444,
          -0.04102973295439329
         ]
        },
        {
         "hoverinfo": "none",
         "line": {
          "color": "#7793a5",
          "dash": "solid",
          "width": 3
         },
         "mode": "lines",
         "type": "scatter",
         "x": [
          -0.13260236253454863,
          -0.1863758251044499
         ],
         "y": [
          -0.10874560130480444,
          -0.2130793724910347
         ]
        },
        {
         "hoverinfo": "none",
         "line": {
          "color": "#7793a5",
          "dash": "solid",
          "width": 3
         },
         "mode": "lines",
         "type": "scatter",
         "x": [
          -0.13260236253454863,
          0.08997698424796594
         ],
         "y": [
          -0.10874560130480444,
          -0.02381931185757939
         ]
        },
        {
         "hoverinfo": "none",
         "line": {
          "color": "#7793a5",
          "dash": "solid",
          "width": 3
         },
         "mode": "lines",
         "type": "scatter",
         "x": [
          -0.13260236253454863,
          -0.15176023965624352
         ],
         "y": [
          -0.10874560130480444,
          -0.3311679344540336
         ]
        },
        {
         "hoverinfo": "none",
         "line": {
          "color": "#7793a5",
          "dash": "solid",
          "width": 3
         },
         "mode": "lines",
         "type": "scatter",
         "x": [
          -0.13260236253454863,
          -0.16134202024279035
         ],
         "y": [
          -0.10874560130480444,
          0.03392374249585388
         ]
        },
        {
         "hoverinfo": "none",
         "line": {
          "color": "#7793a5",
          "dash": "solid",
          "width": 3
         },
         "mode": "lines",
         "type": "scatter",
         "x": [
          -0.4045822127626681,
          -0.35452999970400034
         ],
         "y": [
          0.005549297445378813,
          -0.19938098000740692
         ]
        },
        {
         "hoverinfo": "none",
         "line": {
          "color": "#7793a5",
          "dash": "solid",
          "width": 3
         },
         "mode": "lines",
         "type": "scatter",
         "x": [
          0.4007296043376475,
          0.22602410809437
         ],
         "y": [
          -0.4074946220961584,
          -0.5134593646675446
         ]
        },
        {
         "hoverinfo": "none",
         "line": {
          "color": "#7793a5",
          "dash": "solid",
          "width": 3
         },
         "mode": "lines",
         "type": "scatter",
         "x": [
          -0.16134202024279035,
          -0.034905896794381344
         ],
         "y": [
          0.03392374249585388,
          -0.04102973295439329
         ]
        },
        {
         "hoverinfo": "none",
         "line": {
          "color": "#7793a5",
          "dash": "solid",
          "width": 3
         },
         "mode": "lines",
         "type": "scatter",
         "x": [
          -0.16134202024279035,
          -0.1863758251044499
         ],
         "y": [
          0.03392374249585388,
          -0.2130793724910347
         ]
        },
        {
         "hoverinfo": "none",
         "line": {
          "color": "#7793a5",
          "dash": "solid",
          "width": 3
         },
         "mode": "lines",
         "type": "scatter",
         "x": [
          -0.16134202024279035,
          0.08997698424796594
         ],
         "y": [
          0.03392374249585388,
          -0.02381931185757939
         ]
        },
        {
         "hoverinfo": "none",
         "line": {
          "color": "#7793a5",
          "dash": "solid",
          "width": 3
         },
         "mode": "lines",
         "type": "scatter",
         "x": [
          -0.15176023965624352,
          -0.034905896794381344
         ],
         "y": [
          -0.3311679344540336,
          -0.04102973295439329
         ]
        },
        {
         "hoverinfo": "none",
         "line": {
          "color": "#7793a5",
          "dash": "solid",
          "width": 3
         },
         "mode": "lines",
         "type": "scatter",
         "x": [
          -0.15176023965624352,
          -0.1863758251044499
         ],
         "y": [
          -0.3311679344540336,
          -0.2130793724910347
         ]
        },
        {
         "hoverinfo": "none",
         "line": {
          "color": "#7793a5",
          "dash": "solid",
          "width": 3
         },
         "mode": "lines",
         "type": "scatter",
         "x": [
          -0.15176023965624352,
          0.08997698424796594
         ],
         "y": [
          -0.3311679344540336,
          -0.02381931185757939
         ]
        },
        {
         "hoverinfo": "none",
         "line": {
          "color": "#7793a5",
          "dash": "solid",
          "width": 3
         },
         "mode": "lines",
         "type": "scatter",
         "x": [
          -0.1863758251044499,
          -0.034905896794381344
         ],
         "y": [
          -0.2130793724910347,
          -0.04102973295439329
         ]
        },
        {
         "hoverinfo": "none",
         "line": {
          "color": "#7793a5",
          "dash": "solid",
          "width": 3
         },
         "mode": "lines",
         "type": "scatter",
         "x": [
          -0.1863758251044499,
          0.08997698424796594
         ],
         "y": [
          -0.2130793724910347,
          -0.02381931185757939
         ]
        },
        {
         "hoverinfo": "none",
         "line": {
          "color": "#7793a5",
          "dash": "solid",
          "width": 3
         },
         "mode": "lines",
         "type": "scatter",
         "x": [
          0.08997698424796594,
          -0.034905896794381344
         ],
         "y": [
          -0.02381931185757939,
          -0.04102973295439329
         ]
        },
        {
         "hoverinfo": "text",
         "marker": {
          "color": [
           "#7793a5",
           "#7793a5",
           "#7793a5",
           "#7793a5",
           "#7793a5",
           "#7793a5",
           "#7793a5",
           "#7793a5",
           "#7793a5",
           "#7793a5",
           "#7793a5",
           "#7793a5",
           "#7793a5",
           "#7793a5",
           "#7793a5",
           "#7793a5",
           "#7793a5",
           "#7793a5"
          ],
          "line": {
           "color": "white",
           "width": 1.5
          },
          "opacity": 1,
          "size": [
           14.941277570896592,
           14.941277570896592,
           14.611859066170151,
           14.411343454597535,
           13.394442853050702,
           13.229733600687481,
           60,
           11.124319679175022,
           10.558579203666572,
           10.200515611572616,
           10,
           27.108278430249214,
           21.5224863935835,
           19.696362073904325,
           19.553136637066743,
           18.063592093955886,
           17.075336579776568,
           15.313663706674305
          ]
         },
         "mode": "markers",
         "text": [
          "Biochemistry, Genetics and Molecular Biology 965:9222",
          "Immunology and Microbiology 965:8417",
          "Earth and Planetary Sciences 919:3117",
          "Chemistry 891:2927",
          "Social Sciences 749:3418",
          "Energy 726:2942",
          "Engineering 7257:23576",
          "Medicine 432:424",
          "Veterinary 353:285",
          "Mathematics 303:316",
          "Physics and Astronomy 275:491",
          "Materials Science 2664:5700",
          "Computer Science 1884:6101",
          "Chemical Engineering 1629:8346",
          "General 1609:4564",
          "Agricultural and Biological Sciences 1401:3950",
          "Environmental Science 1263:2694",
          "Business, Management and Accounting 1017:4546"
         ],
         "type": "scatter",
         "x": [
          0.3654531444948745,
          0.47267221073872484,
          -0.0079779088579511,
          0.06623608617805651,
          -0.9487430775499294,
          -0.13260236253454863,
          -0.4045822127626681,
          0.15718073634786447,
          0.14840405901959647,
          0.4007296043376475,
          0.22602410809437,
          -0.35452999970400034,
          -0.16134202024279035,
          -0.15176023965624352,
          -0.1863758251044499,
          0.08997698424796594,
          0.4561426097478631,
          -0.034905896794381344
         ],
         "y": [
          0.30570249834660385,
          0.7904223631258992,
          -0.29133585963946657,
          -0.1981105734620731,
          -0.12786305416538218,
          -0.10874560130480444,
          0.005549297445378813,
          1,
          0.3558437246822378,
          -0.4074946220961584,
          -0.5134593646675446,
          -0.19938098000740692,
          0.03392374249585388,
          -0.3311679344540336,
          -0.2130793724910347,
          -0.02381931185757939,
          -0.0359552189960967,
          -0.04102973295439329
         ]
        }
       ],
       "layout": {
        "annotations": [
         {
          "align": "left",
          "font": {
           "size": 10
          },
          "showarrow": false,
          "text": "",
          "x": 0.005,
          "xref": "paper",
          "y": -0.002,
          "yref": "paper"
         },
         {
          "bgcolor": "white",
          "bordercolor": "grey",
          "font": {
           "size": 8.531366370667431
          },
          "opacity": 0.7437315625054131,
          "showarrow": false,
          "text": "Business, Management and Accounting 1017:4546",
          "x": -0.034905896794381344,
          "xanchor": "right",
          "xshift": -4,
          "y": -0.04102973295439329,
          "yanchor": "top",
          "yshift": -4
         },
         {
          "bgcolor": "white",
          "bordercolor": "grey",
          "font": {
           "size": 8.707533657977656
          },
          "opacity": 0.7554822074660433,
          "showarrow": false,
          "text": "Environmental Science 1263:2694",
          "x": 0.4561426097478631,
          "xanchor": "left",
          "xshift": 4,
          "y": -0.0359552189960967,
          "yanchor": "top",
          "yshift": -4
         },
         {
          "bgcolor": "white",
          "bordercolor": "grey",
          "font": {
           "size": 8.80635920939559
          },
          "opacity": 0.7619946987607977,
          "showarrow": false,
          "text": "Agricultural and Biological Sciences 1401:3950",
          "x": 0.08997698424796594,
          "xanchor": "left",
          "xshift": 4,
          "y": -0.02381931185757939,
          "yanchor": "top",
          "yshift": -4
         },
         {
          "bgcolor": "white",
          "bordercolor": "grey",
          "font": {
           "size": 8.955313663706674
          },
          "opacity": 0.7717067878220765,
          "showarrow": false,
          "text": "General 1609:4564",
          "x": -0.1863758251044499,
          "xanchor": "right",
          "xshift": -4,
          "y": -0.2130793724910347,
          "yanchor": "top",
          "yshift": -4
         },
         {
          "bgcolor": "white",
          "bordercolor": "grey",
          "font": {
           "size": 8.969636207390433
          },
          "opacity": 0.7726342088848016,
          "showarrow": false,
          "text": "Chemical Engineering 1629:8346",
          "x": -0.15176023965624352,
          "xanchor": "right",
          "xshift": -4,
          "y": -0.3311679344540336,
          "yanchor": "top",
          "yshift": -4
         },
         {
          "bgcolor": "white",
          "bordercolor": "grey",
          "font": {
           "size": 9.15224863935835
          },
          "opacity": 0.7843627119743997,
          "showarrow": false,
          "text": "Computer Science 1884:6101",
          "x": -0.16134202024279035,
          "xanchor": "right",
          "xshift": -4,
          "y": 0.03392374249585388,
          "yanchor": "bottom",
          "yshift": 4
         },
         {
          "bgcolor": "white",
          "bordercolor": "grey",
          "font": {
           "size": 9.710827843024921
          },
          "opacity": 0.8191964259580801,
          "showarrow": false,
          "text": "Materials Science 2664:5700",
          "x": -0.35452999970400034,
          "xanchor": "right",
          "xshift": -4,
          "y": -0.19938098000740692,
          "yanchor": "top",
          "yshift": -4
         },
         {
          "bgcolor": "white",
          "bordercolor": "grey",
          "font": {
           "size": 8
          },
          "opacity": 0.7071067811865476,
          "showarrow": false,
          "text": "Physics and Astronomy 275:491",
          "x": 0.22602410809437,
          "xanchor": "left",
          "xshift": 4,
          "y": -0.5134593646675446,
          "yanchor": "top",
          "yshift": -4
         },
         {
          "bgcolor": "white",
          "bordercolor": "grey",
          "font": {
           "size": 8.020051561157262
          },
          "opacity": 0.7085232220017394,
          "showarrow": false,
          "text": "Mathematics 303:316",
          "x": 0.4007296043376475,
          "xanchor": "left",
          "xshift": 4,
          "y": -0.4074946220961584,
          "yanchor": "top",
          "yshift": -4
         },
         {
          "bgcolor": "white",
          "bordercolor": "grey",
          "font": {
           "size": 8.055857920366657
          },
          "opacity": 0.7110455625602805,
          "showarrow": false,
          "text": "Veterinary 353:285",
          "x": 0.14840405901959647,
          "xanchor": "left",
          "xshift": 4,
          "y": 0.3558437246822378,
          "yanchor": "bottom",
          "yshift": 4
         },
         {
          "bgcolor": "white",
          "bordercolor": "grey",
          "font": {
           "size": 8.112431967917502
          },
          "opacity": 0.7150127249159628,
          "showarrow": false,
          "text": "Medicine 432:424",
          "x": 0.15718073634786447,
          "xanchor": "left",
          "xshift": 4,
          "y": 1,
          "yanchor": "bottom",
          "yshift": 4
         },
         {
          "bgcolor": "white",
          "bordercolor": "grey",
          "font": {
           "size": 13
          },
          "opacity": 1,
          "showarrow": false,
          "text": "Engineering 7257:23576",
          "x": -0.4045822127626681,
          "xanchor": "right",
          "xshift": -4,
          "y": 0.005549297445378813,
          "yanchor": "bottom",
          "yshift": 4
         },
         {
          "bgcolor": "white",
          "bordercolor": "grey",
          "font": {
           "size": 8.322973360068747
          },
          "opacity": 0.7295870996713654,
          "showarrow": false,
          "text": "Energy 726:2942",
          "x": -0.13260236253454863,
          "xanchor": "right",
          "xshift": -4,
          "y": -0.10874560130480444,
          "yanchor": "top",
          "yshift": -4
         },
         {
          "bgcolor": "white",
          "bordercolor": "grey",
          "font": {
           "size": 8.33944428530507
          },
          "opacity": 0.7307150118414888,
          "showarrow": false,
          "text": "Social Sciences 749:3418",
          "x": -0.9487430775499294,
          "xanchor": "right",
          "xshift": -4,
          "y": -0.12786305416538218,
          "yanchor": "top",
          "yshift": -4
         },
         {
          "bgcolor": "white",
          "bordercolor": "grey",
          "font": {
           "size": 8.441134345459753
          },
          "opacity": 0.7376404507251316,
          "showarrow": false,
          "text": "Chemistry 891:2927",
          "x": 0.06623608617805651,
          "xanchor": "left",
          "xshift": 4,
          "y": -0.1981105734620731,
          "yanchor": "top",
          "yshift": -4
         },
         {
          "bgcolor": "white",
          "bordercolor": "grey",
          "font": {
           "size": 8.461185906617015
          },
          "opacity": 0.7389983698640353,
          "showarrow": false,
          "text": "Earth and Planetary Sciences 919:3117",
          "x": -0.0079779088579511,
          "xanchor": "right",
          "xshift": -4,
          "y": -0.29133585963946657,
          "yanchor": "top",
          "yshift": -4
         },
         {
          "bgcolor": "white",
          "bordercolor": "grey",
          "font": {
           "size": 8.49412775708966
          },
          "opacity": 0.7412238364414395,
          "showarrow": false,
          "text": "Immunology and Microbiology 965:8417",
          "x": 0.47267221073872484,
          "xanchor": "left",
          "xshift": 4,
          "y": 0.7904223631258992,
          "yanchor": "bottom",
          "yshift": 4
         },
         {
          "bgcolor": "white",
          "bordercolor": "grey",
          "font": {
           "size": 8.49412775708966
          },
          "opacity": 0.7412238364414395,
          "showarrow": false,
          "text": "Biochemistry, Genetics and Molecular Biology 965:9222",
          "x": 0.3654531444948745,
          "xanchor": "left",
          "xshift": 4,
          "y": 0.30570249834660385,
          "yanchor": "bottom",
          "yshift": 4
         }
        ],
        "font": {
         "size": 16
        },
        "height": 900,
        "hoverlabel": {
         "bgcolor": "white",
         "font": {
          "family": "monospace"
         }
        },
        "hovermode": "closest",
        "margin": {
         "b": 0,
         "l": 0,
         "r": 0,
         "t": 0
        },
        "paper_bgcolor": "white",
        "plot_bgcolor": "white",
        "showlegend": false,
        "template": {
         "data": {
          "bar": [
           {
            "error_x": {
             "color": "#2a3f5f"
            },
            "error_y": {
             "color": "#2a3f5f"
            },
            "marker": {
             "line": {
              "color": "#E5ECF6",
              "width": 0.5
             },
             "pattern": {
              "fillmode": "overlay",
              "size": 10,
              "solidity": 0.2
             }
            },
            "type": "bar"
           }
          ],
          "barpolar": [
           {
            "marker": {
             "line": {
              "color": "#E5ECF6",
              "width": 0.5
             },
             "pattern": {
              "fillmode": "overlay",
              "size": 10,
              "solidity": 0.2
             }
            },
            "type": "barpolar"
           }
          ],
          "carpet": [
           {
            "aaxis": {
             "endlinecolor": "#2a3f5f",
             "gridcolor": "white",
             "linecolor": "white",
             "minorgridcolor": "white",
             "startlinecolor": "#2a3f5f"
            },
            "baxis": {
             "endlinecolor": "#2a3f5f",
             "gridcolor": "white",
             "linecolor": "white",
             "minorgridcolor": "white",
             "startlinecolor": "#2a3f5f"
            },
            "type": "carpet"
           }
          ],
          "choropleth": [
           {
            "colorbar": {
             "outlinewidth": 0,
             "ticks": ""
            },
            "type": "choropleth"
           }
          ],
          "contour": [
           {
            "colorbar": {
             "outlinewidth": 0,
             "ticks": ""
            },
            "colorscale": [
             [
              0,
              "#0d0887"
             ],
             [
              0.1111111111111111,
              "#46039f"
             ],
             [
              0.2222222222222222,
              "#7201a8"
             ],
             [
              0.3333333333333333,
              "#9c179e"
             ],
             [
              0.4444444444444444,
              "#bd3786"
             ],
             [
              0.5555555555555556,
              "#d8576b"
             ],
             [
              0.6666666666666666,
              "#ed7953"
             ],
             [
              0.7777777777777778,
              "#fb9f3a"
             ],
             [
              0.8888888888888888,
              "#fdca26"
             ],
             [
              1,
              "#f0f921"
             ]
            ],
            "type": "contour"
           }
          ],
          "contourcarpet": [
           {
            "colorbar": {
             "outlinewidth": 0,
             "ticks": ""
            },
            "type": "contourcarpet"
           }
          ],
          "heatmap": [
           {
            "colorbar": {
             "outlinewidth": 0,
             "ticks": ""
            },
            "colorscale": [
             [
              0,
              "#0d0887"
             ],
             [
              0.1111111111111111,
              "#46039f"
             ],
             [
              0.2222222222222222,
              "#7201a8"
             ],
             [
              0.3333333333333333,
              "#9c179e"
             ],
             [
              0.4444444444444444,
              "#bd3786"
             ],
             [
              0.5555555555555556,
              "#d8576b"
             ],
             [
              0.6666666666666666,
              "#ed7953"
             ],
             [
              0.7777777777777778,
              "#fb9f3a"
             ],
             [
              0.8888888888888888,
              "#fdca26"
             ],
             [
              1,
              "#f0f921"
             ]
            ],
            "type": "heatmap"
           }
          ],
          "histogram": [
           {
            "marker": {
             "pattern": {
              "fillmode": "overlay",
              "size": 10,
              "solidity": 0.2
             }
            },
            "type": "histogram"
           }
          ],
          "histogram2d": [
           {
            "colorbar": {
             "outlinewidth": 0,
             "ticks": ""
            },
            "colorscale": [
             [
              0,
              "#0d0887"
             ],
             [
              0.1111111111111111,
              "#46039f"
             ],
             [
              0.2222222222222222,
              "#7201a8"
             ],
             [
              0.3333333333333333,
              "#9c179e"
             ],
             [
              0.4444444444444444,
              "#bd3786"
             ],
             [
              0.5555555555555556,
              "#d8576b"
             ],
             [
              0.6666666666666666,
              "#ed7953"
             ],
             [
              0.7777777777777778,
              "#fb9f3a"
             ],
             [
              0.8888888888888888,
              "#fdca26"
             ],
             [
              1,
              "#f0f921"
             ]
            ],
            "type": "histogram2d"
           }
          ],
          "histogram2dcontour": [
           {
            "colorbar": {
             "outlinewidth": 0,
             "ticks": ""
            },
            "colorscale": [
             [
              0,
              "#0d0887"
             ],
             [
              0.1111111111111111,
              "#46039f"
             ],
             [
              0.2222222222222222,
              "#7201a8"
             ],
             [
              0.3333333333333333,
              "#9c179e"
             ],
             [
              0.4444444444444444,
              "#bd3786"
             ],
             [
              0.5555555555555556,
              "#d8576b"
             ],
             [
              0.6666666666666666,
              "#ed7953"
             ],
             [
              0.7777777777777778,
              "#fb9f3a"
             ],
             [
              0.8888888888888888,
              "#fdca26"
             ],
             [
              1,
              "#f0f921"
             ]
            ],
            "type": "histogram2dcontour"
           }
          ],
          "mesh3d": [
           {
            "colorbar": {
             "outlinewidth": 0,
             "ticks": ""
            },
            "type": "mesh3d"
           }
          ],
          "parcoords": [
           {
            "line": {
             "colorbar": {
              "outlinewidth": 0,
              "ticks": ""
             }
            },
            "type": "parcoords"
           }
          ],
          "pie": [
           {
            "automargin": true,
            "type": "pie"
           }
          ],
          "scatter": [
           {
            "fillpattern": {
             "fillmode": "overlay",
             "size": 10,
             "solidity": 0.2
            },
            "type": "scatter"
           }
          ],
          "scatter3d": [
           {
            "line": {
             "colorbar": {
              "outlinewidth": 0,
              "ticks": ""
             }
            },
            "marker": {
             "colorbar": {
              "outlinewidth": 0,
              "ticks": ""
             }
            },
            "type": "scatter3d"
           }
          ],
          "scattercarpet": [
           {
            "marker": {
             "colorbar": {
              "outlinewidth": 0,
              "ticks": ""
             }
            },
            "type": "scattercarpet"
           }
          ],
          "scattergeo": [
           {
            "marker": {
             "colorbar": {
              "outlinewidth": 0,
              "ticks": ""
             }
            },
            "type": "scattergeo"
           }
          ],
          "scattergl": [
           {
            "marker": {
             "colorbar": {
              "outlinewidth": 0,
              "ticks": ""
             }
            },
            "type": "scattergl"
           }
          ],
          "scattermap": [
           {
            "marker": {
             "colorbar": {
              "outlinewidth": 0,
              "ticks": ""
             }
            },
            "type": "scattermap"
           }
          ],
          "scattermapbox": [
           {
            "marker": {
             "colorbar": {
              "outlinewidth": 0,
              "ticks": ""
             }
            },
            "type": "scattermapbox"
           }
          ],
          "scatterpolar": [
           {
            "marker": {
             "colorbar": {
              "outlinewidth": 0,
              "ticks": ""
             }
            },
            "type": "scatterpolar"
           }
          ],
          "scatterpolargl": [
           {
            "marker": {
             "colorbar": {
              "outlinewidth": 0,
              "ticks": ""
             }
            },
            "type": "scatterpolargl"
           }
          ],
          "scatterternary": [
           {
            "marker": {
             "colorbar": {
              "outlinewidth": 0,
              "ticks": ""
             }
            },
            "type": "scatterternary"
           }
          ],
          "surface": [
           {
            "colorbar": {
             "outlinewidth": 0,
             "ticks": ""
            },
            "colorscale": [
             [
              0,
              "#0d0887"
             ],
             [
              0.1111111111111111,
              "#46039f"
             ],
             [
              0.2222222222222222,
              "#7201a8"
             ],
             [
              0.3333333333333333,
              "#9c179e"
             ],
             [
              0.4444444444444444,
              "#bd3786"
             ],
             [
              0.5555555555555556,
              "#d8576b"
             ],
             [
              0.6666666666666666,
              "#ed7953"
             ],
             [
              0.7777777777777778,
              "#fb9f3a"
             ],
             [
              0.8888888888888888,
              "#fdca26"
             ],
             [
              1,
              "#f0f921"
             ]
            ],
            "type": "surface"
           }
          ],
          "table": [
           {
            "cells": {
             "fill": {
              "color": "#EBF0F8"
             },
             "line": {
              "color": "white"
             }
            },
            "header": {
             "fill": {
              "color": "#C8D4E3"
             },
             "line": {
              "color": "white"
             }
            },
            "type": "table"
           }
          ]
         },
         "layout": {
          "annotationdefaults": {
           "arrowcolor": "#2a3f5f",
           "arrowhead": 0,
           "arrowwidth": 1
          },
          "autotypenumbers": "strict",
          "coloraxis": {
           "colorbar": {
            "outlinewidth": 0,
            "ticks": ""
           }
          },
          "colorscale": {
           "diverging": [
            [
             0,
             "#8e0152"
            ],
            [
             0.1,
             "#c51b7d"
            ],
            [
             0.2,
             "#de77ae"
            ],
            [
             0.3,
             "#f1b6da"
            ],
            [
             0.4,
             "#fde0ef"
            ],
            [
             0.5,
             "#f7f7f7"
            ],
            [
             0.6,
             "#e6f5d0"
            ],
            [
             0.7,
             "#b8e186"
            ],
            [
             0.8,
             "#7fbc41"
            ],
            [
             0.9,
             "#4d9221"
            ],
            [
             1,
             "#276419"
            ]
           ],
           "sequential": [
            [
             0,
             "#0d0887"
            ],
            [
             0.1111111111111111,
             "#46039f"
            ],
            [
             0.2222222222222222,
             "#7201a8"
            ],
            [
             0.3333333333333333,
             "#9c179e"
            ],
            [
             0.4444444444444444,
             "#bd3786"
            ],
            [
             0.5555555555555556,
             "#d8576b"
            ],
            [
             0.6666666666666666,
             "#ed7953"
            ],
            [
             0.7777777777777778,
             "#fb9f3a"
            ],
            [
             0.8888888888888888,
             "#fdca26"
            ],
            [
             1,
             "#f0f921"
            ]
           ],
           "sequentialminus": [
            [
             0,
             "#0d0887"
            ],
            [
             0.1111111111111111,
             "#46039f"
            ],
            [
             0.2222222222222222,
             "#7201a8"
            ],
            [
             0.3333333333333333,
             "#9c179e"
            ],
            [
             0.4444444444444444,
             "#bd3786"
            ],
            [
             0.5555555555555556,
             "#d8576b"
            ],
            [
             0.6666666666666666,
             "#ed7953"
            ],
            [
             0.7777777777777778,
             "#fb9f3a"
            ],
            [
             0.8888888888888888,
             "#fdca26"
            ],
            [
             1,
             "#f0f921"
            ]
           ]
          },
          "colorway": [
           "#636efa",
           "#EF553B",
           "#00cc96",
           "#ab63fa",
           "#FFA15A",
           "#19d3f3",
           "#FF6692",
           "#B6E880",
           "#FF97FF",
           "#FECB52"
          ],
          "font": {
           "color": "#2a3f5f"
          },
          "geo": {
           "bgcolor": "white",
           "lakecolor": "white",
           "landcolor": "#E5ECF6",
           "showlakes": true,
           "showland": true,
           "subunitcolor": "white"
          },
          "hoverlabel": {
           "align": "left"
          },
          "hovermode": "closest",
          "mapbox": {
           "style": "light"
          },
          "paper_bgcolor": "white",
          "plot_bgcolor": "#E5ECF6",
          "polar": {
           "angularaxis": {
            "gridcolor": "white",
            "linecolor": "white",
            "ticks": ""
           },
           "bgcolor": "#E5ECF6",
           "radialaxis": {
            "gridcolor": "white",
            "linecolor": "white",
            "ticks": ""
           }
          },
          "scene": {
           "xaxis": {
            "backgroundcolor": "#E5ECF6",
            "gridcolor": "white",
            "gridwidth": 2,
            "linecolor": "white",
            "showbackground": true,
            "ticks": "",
            "zerolinecolor": "white"
           },
           "yaxis": {
            "backgroundcolor": "#E5ECF6",
            "gridcolor": "white",
            "gridwidth": 2,
            "linecolor": "white",
            "showbackground": true,
            "ticks": "",
            "zerolinecolor": "white"
           },
           "zaxis": {
            "backgroundcolor": "#E5ECF6",
            "gridcolor": "white",
            "gridwidth": 2,
            "linecolor": "white",
            "showbackground": true,
            "ticks": "",
            "zerolinecolor": "white"
           }
          },
          "shapedefaults": {
           "line": {
            "color": "#2a3f5f"
           }
          },
          "ternary": {
           "aaxis": {
            "gridcolor": "white",
            "linecolor": "white",
            "ticks": ""
           },
           "baxis": {
            "gridcolor": "white",
            "linecolor": "white",
            "ticks": ""
           },
           "bgcolor": "#E5ECF6",
           "caxis": {
            "gridcolor": "white",
            "linecolor": "white",
            "ticks": ""
           }
          },
          "title": {
           "x": 0.05
          },
          "xaxis": {
           "automargin": true,
           "gridcolor": "white",
           "linecolor": "white",
           "ticks": "",
           "title": {
            "standoff": 15
           },
           "zerolinecolor": "white",
           "zerolinewidth": 2
          },
          "yaxis": {
           "automargin": true,
           "gridcolor": "white",
           "linecolor": "white",
           "ticks": "",
           "title": {
            "standoff": 15
           },
           "zerolinecolor": "white",
           "zerolinewidth": 2
          }
         }
        },
        "title": {
         "text": ""
        },
        "width": 1000,
        "xaxis": {
         "range": [
          null,
          null
         ],
         "showgrid": false,
         "showticklabels": false,
         "zeroline": false
        },
        "yaxis": {
         "range": [
          null,
          null
         ],
         "showgrid": false,
         "showticklabels": false,
         "zeroline": false
        }
       }
      }
     },
     "metadata": {},
     "output_type": "display_data"
    }
   ],
   "source": [
    "# grey colors: https://www.w3schools.com/colors/colors_shades.asp\n",
    "from techminer2.packages.correlation.cross import NetworkMapPlot  # type: ignore\n",
    "\n",
    "plot = (\n",
    "    NetworkMapPlot()\n",
    "    #\n",
    "    # FIELD:\n",
    "    .with_field(\"subject_areas\")\n",
    "    .having_terms_in_top(20)\n",
    "    .having_terms_ordered_by(\"OCC\")\n",
    "    .having_term_occurrences_between(None, None)\n",
    "    .having_term_citations_between(None, None)\n",
    "    .having_terms_in(None)\n",
    "    #\n",
    "    # CROSS WITH:\n",
    "    .with_other_field(\"raw_source_title\")\n",
    "    #\n",
    "    .with_correlation_method(\"pearson\")\n",
    "    #\n",
    "    # NETWORK:\n",
    "    .using_spring_layout_k(0.7)\n",
    "    .using_spring_layout_iterations(60)\n",
    "    .using_spring_layout_seed(2)\n",
    "    #\n",
    "    .using_edge_colors([\"#7793a5\", \"#7793a5\", \"#7793a5\", \"#7793a5\"])\n",
    "    .using_edge_similarity_threshold(0)\n",
    "    .using_edge_top_n(None)\n",
    "    .using_edge_widths([1, 1, 2, 3])\n",
    "    #\n",
    "    .using_node_colors([\"#7793a5\"])\n",
    "    .using_node_size_range(10, 50)\n",
    "    #\n",
    "    .using_textfont_opacity_range(0.5, 1.0)\n",
    "    .using_textfont_size_range(8, 13)\n",
    "    #\n",
    "    .using_xaxes_range(None, None)\n",
    "    .using_yaxes_range(None, None)\n",
    "    .using_axes_visible(False)\n",
    "    #\n",
    "    # DATABASE:\n",
    "    .where_root_directory_is(\"../\")\n",
    "    .where_database_is(\"main\")\n",
    "    .where_record_years_range_is(None, None)\n",
    "    .where_record_citations_range_is(None, None)\n",
    "    .where_records_match(None)\n",
    "    #\n",
    "    .run()\n",
    ").update_layout(width=1000, height=900)\n",
    "plot.write_html(\"../reports/sec.4.2.corr_map.subject_areas.html\")\n",
    "plot\n"
   ]
  }
 ],
 "metadata": {
  "kernelspec": {
   "display_name": ".venv",
   "language": "python",
   "name": "python3"
  },
  "language_info": {
   "codemirror_mode": {
    "name": "ipython",
    "version": 3
   },
   "file_extension": ".py",
   "mimetype": "text/x-python",
   "name": "python",
   "nbconvert_exporter": "python",
   "pygments_lexer": "ipython3",
   "version": "3.9.6"
  }
 },
 "nbformat": 4,
 "nbformat_minor": 2
}
